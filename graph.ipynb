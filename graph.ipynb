{
 "cells": [
  {
   "cell_type": "markdown",
   "metadata": {
    "collapsed": true,
    "pycharm": {
     "name": "#%% md\n"
    }
   },
   "source": [
    "---\n",
    "# Fig. feature"
   ]
  },
  {
   "cell_type": "code",
   "execution_count": 8,
   "outputs": [
    {
     "name": "stdout",
     "output_type": "stream",
     "text": [
      "Chck Phath\n"
     ]
    },
    {
     "ename": "SystemExit",
     "evalue": "",
     "output_type": "error",
     "traceback": [
      "An exception has occurred, use %tb to see the full traceback.\n",
      "\u001B[1;31mSystemExit\u001B[0m\n"
     ]
    },
    {
     "name": "stderr",
     "output_type": "stream",
     "text": [
      "C:\\Users\\Mechano_2\\anaconda3\\envs\\final\\lib\\site-packages\\IPython\\core\\interactiveshell.py:3445: UserWarning: To exit: use 'exit', 'quit', or Ctrl-D.\n",
      "  warn(\"To exit: use 'exit', 'quit', or Ctrl-D.\", stacklevel=1)\n"
     ]
    }
   ],
   "source": [
    "import cv2\n",
    "import numpy as np\n",
    "import matplotlib.pyplot as plt\n",
    "from scipy import io\n",
    "\n",
    "\n",
    "ml = cv2.imread('data/ML/ff0001.jpg',cv2.IMREAD_GRAYSCALE)[407-75:407+75,211-50:211+100]\n",
    "ml_deformed = cv2.imread('data/ML/ff3638.jpg',cv2.IMREAD_GRAYSCALE)[407-75:407+75,211-50:211+100]\n",
    "black = cv2.imread('data/DIC/ff00001.jpg',cv2.IMREAD_GRAYSCALE)[295-75:295+75,217-50:217+100]\n",
    "black_deformed = cv2.imread('data/DIC/ff03574.jpg',cv2.IMREAD_GRAYSCALE)[295-75:295+75,217-50:217+100]\n",
    "\n",
    "field = ml[25:-25, 50:]\n",
    "x = np.linspace(0, np.shape(field)[1], np.shape(field)[1])\n",
    "y = np.linspace(0, np.shape(field)[0], np.shape(field)[0])\n",
    "X, Y = np.meshgrid(x, y)\n",
    "\n",
    "fig, ax = plt.subplots(subplot_kw={\"projection\": \"3d\"},figsize=(5,5) )\n",
    "ax.plot_surface(X, Y, black[25:-25, 50:], cmap='magma', edgecolor=None,  rstride=1, cstride=1)\n",
    "ax.set_xlabel('X (Pixel)')\n",
    "ax.set_ylabel('Y (Pixel)')\n",
    "ax.set_zlabel('Pixel Value')\n",
    "ax.view_init(35)\n",
    "ax.xaxis.set_pane_color((1.0, 1.0, 1.0, 0.0))\n",
    "ax.yaxis.set_pane_color((1.0, 1.0, 1.0, 0.0))\n",
    "ax.zaxis.set_pane_color((1.0, 1.0, 1.0, 0.0))\n",
    "plt.savefig('./figure/fig1a_1.png',dpi=300,bbox_inches='tight')\n",
    "plt.show()\n",
    "plt.close()\n",
    "\n",
    "fig, ax = plt.subplots(subplot_kw={\"projection\": \"3d\"},figsize=(5,5))\n",
    "ax.plot_surface(X, Y, field, cmap='magma', edgecolor=None,  rstride=1, cstride=1)\n",
    "ax.set_xlabel('X (Pixel)')\n",
    "ax.set_ylabel('Y (Pixel)')\n",
    "ax.set_zlabel('Pixel Value')\n",
    "ax.view_init(35)\n",
    "ax.xaxis.set_pane_color((1.0, 1.0, 1.0, 0.0))\n",
    "ax.yaxis.set_pane_color((1.0, 1.0, 1.0, 0.0))\n",
    "ax.zaxis.set_pane_color((1.0, 1.0, 1.0, 0.0))\n",
    "plt.savefig('./figure/fig1a_2.png',dpi=300,bbox_inches='tight')\n",
    "plt.show()\n",
    "plt.close()"
   ],
   "metadata": {
    "collapsed": false,
    "pycharm": {
     "name": "#%%\n"
    }
   }
  },
  {
   "cell_type": "code",
   "execution_count": 4,
   "outputs": [
    {
     "data": {
      "text/plain": "['C:\\\\Users\\\\Mechano_2\\\\PycharmProjects\\\\scientificProject',\n 'C:\\\\Users\\\\Mechano_2\\\\PycharmProjects\\\\scientificProject',\n 'C:\\\\Users\\\\Mechano_2\\\\anaconda3\\\\envs\\\\final\\\\python37.zip',\n 'C:\\\\Users\\\\Mechano_2\\\\anaconda3\\\\envs\\\\final\\\\DLLs',\n 'C:\\\\Users\\\\Mechano_2\\\\anaconda3\\\\envs\\\\final\\\\lib',\n 'C:\\\\Users\\\\Mechano_2\\\\anaconda3\\\\envs\\\\final',\n '',\n 'C:\\\\Users\\\\Mechano_2\\\\AppData\\\\Roaming\\\\Python\\\\Python37\\\\site-packages',\n 'C:\\\\Users\\\\Mechano_2\\\\anaconda3\\\\envs\\\\final\\\\lib\\\\site-packages',\n 'c:\\\\users\\\\mechano_2\\\\fairseq',\n 'C:\\\\Users\\\\Mechano_2\\\\anaconda3\\\\envs\\\\final\\\\lib\\\\site-packages\\\\win32',\n 'C:\\\\Users\\\\Mechano_2\\\\anaconda3\\\\envs\\\\final\\\\lib\\\\site-packages\\\\win32\\\\lib',\n 'C:\\\\Users\\\\Mechano_2\\\\anaconda3\\\\envs\\\\final\\\\lib\\\\site-packages\\\\Pythonwin',\n 'C:\\\\Users\\\\Mechano_2\\\\anaconda3\\\\envs\\\\final\\\\lib\\\\site-packages\\\\IPython\\\\extensions',\n 'C:\\\\Users\\\\Mechano_2\\\\.ipython',\n 'C:\\\\Program Files\\\\JetBrains\\\\PyCharm 2021.1.1\\\\plugins\\\\python\\\\helpers\\\\pydev',\n 'C:\\\\Program Files\\\\JetBrains\\\\PyCharm 2021.1.1\\\\plugins\\\\python\\\\helpers-pro\\\\jupyter_debug']"
     },
     "execution_count": 4,
     "metadata": {},
     "output_type": "execute_result"
    }
   ],
   "source": [
    "import numpy as np\n",
    "import matplotlib.pyplot as plt\n",
    "\n",
    "path = './default/'\n",
    "training_loss = np.load(path+'DIC_training_loss.npy')\n",
    "test_loss = np.load(path+'DIC_test_loss.npy')\n",
    "ml_training_loss=np.load(path+'ml_training_loss.npy')\n",
    "ml_testing_loss=np.load(path+'test_loss.npy')\n",
    "\n",
    "\n",
    "fig, ax = plt.subplots(figsize=(10,5) )\n",
    "ax.plot(ml_training_loss,label='ML image train loss')\n",
    "ax.plot(ml_testing_loss,label='ML image validation loss')\n",
    "ax.plot(training_loss,label='Speckle image train loss')\n",
    "ax.plot(test_loss, label='Validation image train loss')\n",
    "ax.legend()\n",
    "ax.set_ylabel('Loss')\n",
    "ax.set_xlabel('Epoch')\n",
    "ax.set_ylim(0,0.02)\n",
    "plt.savefig('./figure/loss.png',dpi=300,bbox_inches='tight')\n",
    "plt.show()\n",
    "plt.close()"
   ],
   "metadata": {
    "collapsed": false,
    "pycharm": {
     "name": "#%%\n"
    }
   }
  },
  {
   "cell_type": "code",
   "execution_count": 3,
   "outputs": [],
   "source": [
    "import cv2\n",
    "from matplotlib import pyplot as plt\n",
    "import matplotlib.pyplot as plt\n",
    "import seaborn as sns\n",
    "import cv2\n",
    "import numpy as np\n",
    "import matplotlib.pyplot as plt\n",
    "import glob\n",
    "\n",
    "def histogram(img, img2):\n",
    "    fig, ax = plt.subplots()\n",
    "    sns.kdeplot(data=img.ravel(),color='red',label='Ref',ax=ax)\n",
    "    sns.kdeplot(data=img2.ravel(),label='Deformed',ax=ax)\n",
    "\n",
    "    plt.ylabel('number of pixel')\n",
    "    plt.xlabel('pixel value')\n",
    "    # ax.set_xlim(80,100)\n",
    "    # plt.savefig('ml_hist.png',bbox='tight')\n",
    "    plt.show()\n",
    "    plt.close()\n",
    "\n",
    "ml_files = glob.glob('./data/graph/ML/*')\n",
    "dic_files = glob.glob('./data/graph/DIC/*')\n",
    "\n",
    "ml_cracktip = np.array([[211, 406],[208, 403],[210, 400], [211,397], [208, 393],[205, 390], [199,385]]) #order x,y\n",
    "dic_cracktip = np.array([[217, 296],[216, 296],[210, 293],[204, 290], [198,285],[194, 282], [189, 278]])\n",
    "\n",
    "ml_list= []\n",
    "dic_list = []\n",
    "for count in range(len(ml_files)):\n",
    "    if count ==0 :\n",
    "        ml_image_ref = cv2.imread(ml_files[count], cv2.IMREAD_GRAYSCALE)[ml_cracktip[count][1]-75:ml_cracktip[count][1]+75,ml_cracktip[count][0]:ml_cracktip[count][0]+100]\n",
    "        dic_image_ref =  cv2.imread(dic_files[count], cv2.IMREAD_GRAYSCALE)[dic_cracktip[count][1]-75:dic_cracktip[count][1]+75,dic_cracktip[count][0]:dic_cracktip[count][0]+100]\n",
    "    ml_image = cv2.imread(ml_files[count], cv2.IMREAD_GRAYSCALE)[ml_cracktip[count][1]-75:ml_cracktip[count][1]+75,ml_cracktip[count][0]:ml_cracktip[count][0]+100]\n",
    "    dic_image =  cv2.imread(dic_files[count], cv2.IMREAD_GRAYSCALE)[dic_cracktip[count][1]-75:dic_cracktip[count][1]+75,dic_cracktip[count][0]:dic_cracktip[count][0]+100]\n",
    "    ml_list.append(np.mean(ml_image))\n",
    "    dic_list.append(np.mean(dic_image))\n",
    "\n",
    "    fig, ax = plt.subplots(1,2,figsize=(10,10))\n",
    "\n",
    "    dst_ml= cv2.subtract(ml_image,ml_image_ref).astype(float)\n",
    "    dst_ml = cv2.GaussianBlur(dst_ml,(0,0),4)\n",
    "\n",
    "    im1 = ax[0].imshow(dst_ml,cmap='jet',vmin=0,vmax=7)\n",
    "    ax[0].axis('off')\n",
    "    plt.colorbar(im1, ax=ax[0])\n",
    "\n",
    "    dst_dic= cv2.subtract(dic_image,dic_image_ref).astype(float)\n",
    "    dst_dic = cv2.GaussianBlur(dst_dic,(0,0),4)\n",
    "    im2 = ax[1].imshow(dst_dic,cmap='jet',vmin=4,vmax=60)\n",
    "    ax[1].axis('off')\n",
    "    plt.colorbar(im2, ax=ax[1])\n",
    "    plt.show()\n",
    "    plt.close()\n",
    "\n",
    "\n",
    "fig, ax = plt.subplots(figsize=(5,5))\n",
    "ax.set_xlabel('Sample number')\n",
    "ax.set_ylabel('Pixel Intensity')\n",
    "plt.plot(ml_list, color='black')\n",
    "plt.savefig('./figure/fig2a_1_ml.png',dpi=300,bbox_inches='tight')\n",
    "plt.show()\n",
    "plt.close()\n",
    "\n",
    "fig, ax = plt.subplots(figsize=(5,5))\n",
    "ax.set_xlabel('Sample number')\n",
    "ax.set_ylabel('Pixel Intensity')\n",
    "plt.plot(dic_list, color='black')\n",
    "plt.savefig('./figure/fig2a_1_dic.png',dpi=300,bbox_inches='tight')\n",
    "plt.show()\n",
    "plt.close()"
   ],
   "metadata": {
    "collapsed": false,
    "pycharm": {
     "name": "#%%\n"
    }
   }
  }
 ],
 "metadata": {
  "kernelspec": {
   "display_name": "Python 3",
   "language": "python",
   "name": "python3"
  },
  "language_info": {
   "codemirror_mode": {
    "name": "ipython",
    "version": 2
   },
   "file_extension": ".py",
   "mimetype": "text/x-python",
   "name": "python",
   "nbconvert_exporter": "python",
   "pygments_lexer": "ipython2",
   "version": "2.7.6"
  }
 },
 "nbformat": 4,
 "nbformat_minor": 0
}